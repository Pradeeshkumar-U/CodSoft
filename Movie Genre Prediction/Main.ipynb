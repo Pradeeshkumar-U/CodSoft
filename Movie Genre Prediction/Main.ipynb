{
 "cells": [
  {
   "cell_type": "markdown",
   "metadata": {},
   "source": [
    "Author : Pradeeshkumar U, \n",
    "Date   : 18-01-2025, \n",
    "Topic  : Movie Genre Prediction"
   ]
  },
  {
   "cell_type": "markdown",
   "metadata": {},
   "source": [
    "Importing necessary Packages:"
   ]
  },
  {
   "cell_type": "code",
   "execution_count": 1,
   "metadata": {},
   "outputs": [],
   "source": [
    "import pandas as pd\n",
    "import warnings \n",
    "from sklearn.feature_extraction.text import TfidfVectorizer\n",
    "from sklearn.preprocessing import LabelEncoder\n",
    "from sklearn.linear_model import LogisticRegression\n",
    "from sklearn.metrics import  accuracy_score, classification_report"
   ]
  },
  {
   "cell_type": "markdown",
   "metadata": {},
   "source": [
    "Lets see the Dataset Description"
   ]
  },
  {
   "cell_type": "code",
   "execution_count": 103,
   "metadata": {},
   "outputs": [
    {
     "data": {
      "text/html": [
       "<div>\n",
       "<style scoped>\n",
       "    .dataframe tbody tr th:only-of-type {\n",
       "        vertical-align: middle;\n",
       "    }\n",
       "\n",
       "    .dataframe tbody tr th {\n",
       "        vertical-align: top;\n",
       "    }\n",
       "\n",
       "    .dataframe thead th {\n",
       "        text-align: right;\n",
       "    }\n",
       "</style>\n",
       "<table border=\"1\" class=\"dataframe\">\n",
       "  <thead>\n",
       "    <tr style=\"text-align: right;\">\n",
       "      <th></th>\n",
       "      <th>Train data:</th>\n",
       "    </tr>\n",
       "  </thead>\n",
       "  <tbody>\n",
       "    <tr>\n",
       "      <th>0</th>\n",
       "      <td>ID ::: TITLE ::: GENRE ::: DESCRIPTION</td>\n",
       "    </tr>\n",
       "    <tr>\n",
       "      <th>1</th>\n",
       "      <td>ID ::: TITLE ::: GENRE ::: DESCRIPTION</td>\n",
       "    </tr>\n",
       "    <tr>\n",
       "      <th>2</th>\n",
       "      <td>ID ::: TITLE ::: GENRE ::: DESCRIPTION</td>\n",
       "    </tr>\n",
       "    <tr>\n",
       "      <th>3</th>\n",
       "      <td>ID ::: TITLE ::: GENRE ::: DESCRIPTION</td>\n",
       "    </tr>\n",
       "    <tr>\n",
       "      <th>4</th>\n",
       "      <td>Test data:</td>\n",
       "    </tr>\n",
       "    <tr>\n",
       "      <th>5</th>\n",
       "      <td>ID ::: TITLE ::: DESCRIPTION</td>\n",
       "    </tr>\n",
       "    <tr>\n",
       "      <th>6</th>\n",
       "      <td>ID ::: TITLE ::: DESCRIPTION</td>\n",
       "    </tr>\n",
       "    <tr>\n",
       "      <th>7</th>\n",
       "      <td>ID ::: TITLE ::: DESCRIPTION</td>\n",
       "    </tr>\n",
       "    <tr>\n",
       "      <th>8</th>\n",
       "      <td>ID ::: TITLE ::: DESCRIPTION</td>\n",
       "    </tr>\n",
       "    <tr>\n",
       "      <th>9</th>\n",
       "      <td>Source:</td>\n",
       "    </tr>\n",
       "    <tr>\n",
       "      <th>10</th>\n",
       "      <td>ftp://ftp.fu-berlin.de/pub/misc/movies/database/</td>\n",
       "    </tr>\n",
       "  </tbody>\n",
       "</table>\n",
       "</div>"
      ],
      "text/plain": [
       "                                         Train data:\n",
       "0             ID ::: TITLE ::: GENRE ::: DESCRIPTION\n",
       "1             ID ::: TITLE ::: GENRE ::: DESCRIPTION\n",
       "2             ID ::: TITLE ::: GENRE ::: DESCRIPTION\n",
       "3             ID ::: TITLE ::: GENRE ::: DESCRIPTION\n",
       "4                                         Test data:\n",
       "5                       ID ::: TITLE ::: DESCRIPTION\n",
       "6                       ID ::: TITLE ::: DESCRIPTION\n",
       "7                       ID ::: TITLE ::: DESCRIPTION\n",
       "8                       ID ::: TITLE ::: DESCRIPTION\n",
       "9                                            Source:\n",
       "10  ftp://ftp.fu-berlin.de/pub/misc/movies/database/"
      ]
     },
     "execution_count": 103,
     "metadata": {},
     "output_type": "execute_result"
    }
   ],
   "source": [
    "warnings.filterwarnings('ignore')\n",
    "description = pd.read_csv('data/description.txt')\n",
    "description"
   ]
  },
  {
   "cell_type": "markdown",
   "metadata": {},
   "source": [
    "Function to preprocess the Dataset:"
   ]
  },
  {
   "cell_type": "code",
   "execution_count": 104,
   "metadata": {},
   "outputs": [],
   "source": [
    "def data_path(file_path):\n",
    "    with open(file_path,'r',encoding='utf-8') as f:\n",
    "        data = f.readlines()\n",
    "    data = [line.strip().split(' ::: ') for line in data]\n",
    "    return data"
   ]
  },
  {
   "cell_type": "markdown",
   "metadata": {},
   "source": [
    "Importing Dataset and Preprocessing:"
   ]
  },
  {
   "cell_type": "code",
   "execution_count": 105,
   "metadata": {},
   "outputs": [],
   "source": [
    "columns = ['ID','Name','Genre','Description']\n",
    "test_col = [0,1,3]\n",
    "\n",
    "train_data = data_path('data/train_data.txt')\n",
    "train_df = pd.DataFrame(train_data,columns=columns)\n",
    "\n",
    "test_data = data_path('data/test_data.txt')\n",
    "test_df = pd.DataFrame(test_data,columns=[columns[col] for col in test_col])\n",
    "\n",
    "test_solution_data = data_path('data/test_data_solution.txt')\n",
    "test_solution_df = pd.DataFrame(test_solution_data,columns=columns)"
   ]
  },
  {
   "cell_type": "markdown",
   "metadata": {},
   "source": [
    "Checking train_df:"
   ]
  },
  {
   "cell_type": "code",
   "execution_count": 106,
   "metadata": {},
   "outputs": [
    {
     "data": {
      "text/html": [
       "<div>\n",
       "<style scoped>\n",
       "    .dataframe tbody tr th:only-of-type {\n",
       "        vertical-align: middle;\n",
       "    }\n",
       "\n",
       "    .dataframe tbody tr th {\n",
       "        vertical-align: top;\n",
       "    }\n",
       "\n",
       "    .dataframe thead th {\n",
       "        text-align: right;\n",
       "    }\n",
       "</style>\n",
       "<table border=\"1\" class=\"dataframe\">\n",
       "  <thead>\n",
       "    <tr style=\"text-align: right;\">\n",
       "      <th></th>\n",
       "      <th>ID</th>\n",
       "      <th>Name</th>\n",
       "      <th>Genre</th>\n",
       "      <th>Description</th>\n",
       "    </tr>\n",
       "  </thead>\n",
       "  <tbody>\n",
       "    <tr>\n",
       "      <th>0</th>\n",
       "      <td>1</td>\n",
       "      <td>Oscar et la dame rose (2009)</td>\n",
       "      <td>drama</td>\n",
       "      <td>Listening in to a conversation between his doc...</td>\n",
       "    </tr>\n",
       "    <tr>\n",
       "      <th>1</th>\n",
       "      <td>2</td>\n",
       "      <td>Cupid (1997)</td>\n",
       "      <td>thriller</td>\n",
       "      <td>A brother and sister with a past incestuous re...</td>\n",
       "    </tr>\n",
       "    <tr>\n",
       "      <th>2</th>\n",
       "      <td>3</td>\n",
       "      <td>Young, Wild and Wonderful (1980)</td>\n",
       "      <td>adult</td>\n",
       "      <td>As the bus empties the students for their fiel...</td>\n",
       "    </tr>\n",
       "    <tr>\n",
       "      <th>3</th>\n",
       "      <td>4</td>\n",
       "      <td>The Secret Sin (1915)</td>\n",
       "      <td>drama</td>\n",
       "      <td>To help their unemployed father make ends meet...</td>\n",
       "    </tr>\n",
       "    <tr>\n",
       "      <th>4</th>\n",
       "      <td>5</td>\n",
       "      <td>The Unrecovered (2007)</td>\n",
       "      <td>drama</td>\n",
       "      <td>The film's title refers not only to the un-rec...</td>\n",
       "    </tr>\n",
       "  </tbody>\n",
       "</table>\n",
       "</div>"
      ],
      "text/plain": [
       "  ID                              Name     Genre  \\\n",
       "0  1      Oscar et la dame rose (2009)     drama   \n",
       "1  2                      Cupid (1997)  thriller   \n",
       "2  3  Young, Wild and Wonderful (1980)     adult   \n",
       "3  4             The Secret Sin (1915)     drama   \n",
       "4  5            The Unrecovered (2007)     drama   \n",
       "\n",
       "                                         Description  \n",
       "0  Listening in to a conversation between his doc...  \n",
       "1  A brother and sister with a past incestuous re...  \n",
       "2  As the bus empties the students for their fiel...  \n",
       "3  To help their unemployed father make ends meet...  \n",
       "4  The film's title refers not only to the un-rec...  "
      ]
     },
     "execution_count": 106,
     "metadata": {},
     "output_type": "execute_result"
    }
   ],
   "source": [
    "train_df.head()"
   ]
  },
  {
   "cell_type": "markdown",
   "metadata": {},
   "source": [
    "Checking test_df:"
   ]
  },
  {
   "cell_type": "code",
   "execution_count": 107,
   "metadata": {},
   "outputs": [
    {
     "data": {
      "text/html": [
       "<div>\n",
       "<style scoped>\n",
       "    .dataframe tbody tr th:only-of-type {\n",
       "        vertical-align: middle;\n",
       "    }\n",
       "\n",
       "    .dataframe tbody tr th {\n",
       "        vertical-align: top;\n",
       "    }\n",
       "\n",
       "    .dataframe thead th {\n",
       "        text-align: right;\n",
       "    }\n",
       "</style>\n",
       "<table border=\"1\" class=\"dataframe\">\n",
       "  <thead>\n",
       "    <tr style=\"text-align: right;\">\n",
       "      <th></th>\n",
       "      <th>ID</th>\n",
       "      <th>Name</th>\n",
       "      <th>Description</th>\n",
       "    </tr>\n",
       "  </thead>\n",
       "  <tbody>\n",
       "    <tr>\n",
       "      <th>0</th>\n",
       "      <td>1</td>\n",
       "      <td>Edgar's Lunch (1998)</td>\n",
       "      <td>L.R. Brane loves his life - his car, his apart...</td>\n",
       "    </tr>\n",
       "    <tr>\n",
       "      <th>1</th>\n",
       "      <td>2</td>\n",
       "      <td>La guerra de papá (1977)</td>\n",
       "      <td>Spain, March 1964: Quico is a very naughty chi...</td>\n",
       "    </tr>\n",
       "    <tr>\n",
       "      <th>2</th>\n",
       "      <td>3</td>\n",
       "      <td>Off the Beaten Track (2010)</td>\n",
       "      <td>One year in the life of Albin and his family o...</td>\n",
       "    </tr>\n",
       "    <tr>\n",
       "      <th>3</th>\n",
       "      <td>4</td>\n",
       "      <td>Meu Amigo Hindu (2015)</td>\n",
       "      <td>His father has died, he hasn't spoken with his...</td>\n",
       "    </tr>\n",
       "    <tr>\n",
       "      <th>4</th>\n",
       "      <td>5</td>\n",
       "      <td>Er nu zhai (1955)</td>\n",
       "      <td>Before he was known internationally as a marti...</td>\n",
       "    </tr>\n",
       "  </tbody>\n",
       "</table>\n",
       "</div>"
      ],
      "text/plain": [
       "  ID                         Name  \\\n",
       "0  1         Edgar's Lunch (1998)   \n",
       "1  2     La guerra de papá (1977)   \n",
       "2  3  Off the Beaten Track (2010)   \n",
       "3  4       Meu Amigo Hindu (2015)   \n",
       "4  5            Er nu zhai (1955)   \n",
       "\n",
       "                                         Description  \n",
       "0  L.R. Brane loves his life - his car, his apart...  \n",
       "1  Spain, March 1964: Quico is a very naughty chi...  \n",
       "2  One year in the life of Albin and his family o...  \n",
       "3  His father has died, he hasn't spoken with his...  \n",
       "4  Before he was known internationally as a marti...  "
      ]
     },
     "execution_count": 107,
     "metadata": {},
     "output_type": "execute_result"
    }
   ],
   "source": [
    "test_df.head()"
   ]
  },
  {
   "cell_type": "markdown",
   "metadata": {},
   "source": [
    "Checking test_solution_df"
   ]
  },
  {
   "cell_type": "code",
   "execution_count": 108,
   "metadata": {},
   "outputs": [
    {
     "data": {
      "text/html": [
       "<div>\n",
       "<style scoped>\n",
       "    .dataframe tbody tr th:only-of-type {\n",
       "        vertical-align: middle;\n",
       "    }\n",
       "\n",
       "    .dataframe tbody tr th {\n",
       "        vertical-align: top;\n",
       "    }\n",
       "\n",
       "    .dataframe thead th {\n",
       "        text-align: right;\n",
       "    }\n",
       "</style>\n",
       "<table border=\"1\" class=\"dataframe\">\n",
       "  <thead>\n",
       "    <tr style=\"text-align: right;\">\n",
       "      <th></th>\n",
       "      <th>ID</th>\n",
       "      <th>Name</th>\n",
       "      <th>Genre</th>\n",
       "      <th>Description</th>\n",
       "    </tr>\n",
       "  </thead>\n",
       "  <tbody>\n",
       "    <tr>\n",
       "      <th>0</th>\n",
       "      <td>1</td>\n",
       "      <td>Edgar's Lunch (1998)</td>\n",
       "      <td>thriller</td>\n",
       "      <td>L.R. Brane loves his life - his car, his apart...</td>\n",
       "    </tr>\n",
       "    <tr>\n",
       "      <th>1</th>\n",
       "      <td>2</td>\n",
       "      <td>La guerra de papá (1977)</td>\n",
       "      <td>comedy</td>\n",
       "      <td>Spain, March 1964: Quico is a very naughty chi...</td>\n",
       "    </tr>\n",
       "    <tr>\n",
       "      <th>2</th>\n",
       "      <td>3</td>\n",
       "      <td>Off the Beaten Track (2010)</td>\n",
       "      <td>documentary</td>\n",
       "      <td>One year in the life of Albin and his family o...</td>\n",
       "    </tr>\n",
       "    <tr>\n",
       "      <th>3</th>\n",
       "      <td>4</td>\n",
       "      <td>Meu Amigo Hindu (2015)</td>\n",
       "      <td>drama</td>\n",
       "      <td>His father has died, he hasn't spoken with his...</td>\n",
       "    </tr>\n",
       "    <tr>\n",
       "      <th>4</th>\n",
       "      <td>5</td>\n",
       "      <td>Er nu zhai (1955)</td>\n",
       "      <td>drama</td>\n",
       "      <td>Before he was known internationally as a marti...</td>\n",
       "    </tr>\n",
       "  </tbody>\n",
       "</table>\n",
       "</div>"
      ],
      "text/plain": [
       "  ID                         Name        Genre  \\\n",
       "0  1         Edgar's Lunch (1998)     thriller   \n",
       "1  2     La guerra de papá (1977)       comedy   \n",
       "2  3  Off the Beaten Track (2010)  documentary   \n",
       "3  4       Meu Amigo Hindu (2015)        drama   \n",
       "4  5            Er nu zhai (1955)        drama   \n",
       "\n",
       "                                         Description  \n",
       "0  L.R. Brane loves his life - his car, his apart...  \n",
       "1  Spain, March 1964: Quico is a very naughty chi...  \n",
       "2  One year in the life of Albin and his family o...  \n",
       "3  His father has died, he hasn't spoken with his...  \n",
       "4  Before he was known internationally as a marti...  "
      ]
     },
     "execution_count": 108,
     "metadata": {},
     "output_type": "execute_result"
    }
   ],
   "source": [
    "test_solution_df.head()"
   ]
  },
  {
   "cell_type": "markdown",
   "metadata": {},
   "source": [
    "Feature Extraction:"
   ]
  },
  {
   "cell_type": "code",
   "execution_count": 109,
   "metadata": {},
   "outputs": [
    {
     "name": "stdout",
     "output_type": "stream",
     "text": [
      "Shape of X_train_df_tfid (54214, 10000)\n",
      "Shape of X_test_df_tfid (54200, 10000)\n"
     ]
    }
   ],
   "source": [
    "vectorizer = TfidfVectorizer(max_features=10000)\n",
    "\n",
    "X_train_df_tfid = vectorizer.fit_transform(train_df[\"Description\"])\n",
    "\n",
    "X_test_df_tfid = vectorizer.transform(test_df[\"Description\"])\n",
    "\n",
    "print('Shape of X_train_df_tfid',X_train_df_tfid.shape)\n",
    "print('Shape of X_test_df_tfid',X_test_df_tfid.shape)"
   ]
  },
  {
   "cell_type": "markdown",
   "metadata": {},
   "source": [
    "Label Encoding:"
   ]
  },
  {
   "cell_type": "code",
   "execution_count": 110,
   "metadata": {},
   "outputs": [
    {
     "name": "stdout",
     "output_type": "stream",
     "text": [
      "Genres in the Dataset ['action' 'adult' 'adventure' 'animation' 'biography' 'comedy' 'crime'\n",
      " 'documentary' 'drama' 'family' 'fantasy' 'game-show' 'history' 'horror'\n",
      " 'music' 'musical' 'mystery' 'news' 'reality-tv' 'romance' 'sci-fi'\n",
      " 'short' 'sport' 'talk-show' 'thriller' 'war' 'western']\n"
     ]
    }
   ],
   "source": [
    "encoder = LabelEncoder()\n",
    "Y_train = encoder.fit_transform(train_df['Genre'])\n",
    "print('Genres in the Dataset',encoder.classes_)"
   ]
  },
  {
   "cell_type": "markdown",
   "metadata": {},
   "source": [
    "Model Building - Logistic Regression:"
   ]
  },
  {
   "cell_type": "code",
   "execution_count": 111,
   "metadata": {},
   "outputs": [
    {
     "data": {
      "text/html": [
       "<div>\n",
       "<style scoped>\n",
       "    .dataframe tbody tr th:only-of-type {\n",
       "        vertical-align: middle;\n",
       "    }\n",
       "\n",
       "    .dataframe tbody tr th {\n",
       "        vertical-align: top;\n",
       "    }\n",
       "\n",
       "    .dataframe thead th {\n",
       "        text-align: right;\n",
       "    }\n",
       "</style>\n",
       "<table border=\"1\" class=\"dataframe\">\n",
       "  <thead>\n",
       "    <tr style=\"text-align: right;\">\n",
       "      <th></th>\n",
       "      <th>Name</th>\n",
       "      <th>Predicted Genre</th>\n",
       "    </tr>\n",
       "  </thead>\n",
       "  <tbody>\n",
       "    <tr>\n",
       "      <th>0</th>\n",
       "      <td>Edgar's Lunch (1998)</td>\n",
       "      <td>drama</td>\n",
       "    </tr>\n",
       "    <tr>\n",
       "      <th>1</th>\n",
       "      <td>La guerra de papá (1977)</td>\n",
       "      <td>drama</td>\n",
       "    </tr>\n",
       "    <tr>\n",
       "      <th>2</th>\n",
       "      <td>Off the Beaten Track (2010)</td>\n",
       "      <td>documentary</td>\n",
       "    </tr>\n",
       "    <tr>\n",
       "      <th>3</th>\n",
       "      <td>Meu Amigo Hindu (2015)</td>\n",
       "      <td>drama</td>\n",
       "    </tr>\n",
       "    <tr>\n",
       "      <th>4</th>\n",
       "      <td>Er nu zhai (1955)</td>\n",
       "      <td>drama</td>\n",
       "    </tr>\n",
       "    <tr>\n",
       "      <th>...</th>\n",
       "      <td>...</td>\n",
       "      <td>...</td>\n",
       "    </tr>\n",
       "    <tr>\n",
       "      <th>54195</th>\n",
       "      <td>\"Tales of Light &amp; Dark\" (2013)</td>\n",
       "      <td>drama</td>\n",
       "    </tr>\n",
       "    <tr>\n",
       "      <th>54196</th>\n",
       "      <td>Der letzte Mohikaner (1965)</td>\n",
       "      <td>drama</td>\n",
       "    </tr>\n",
       "    <tr>\n",
       "      <th>54197</th>\n",
       "      <td>Oliver Twink (2007)</td>\n",
       "      <td>comedy</td>\n",
       "    </tr>\n",
       "    <tr>\n",
       "      <th>54198</th>\n",
       "      <td>Slipstream (1973)</td>\n",
       "      <td>drama</td>\n",
       "    </tr>\n",
       "    <tr>\n",
       "      <th>54199</th>\n",
       "      <td>Curitiba Zero Grau (2010)</td>\n",
       "      <td>documentary</td>\n",
       "    </tr>\n",
       "  </tbody>\n",
       "</table>\n",
       "<p>54200 rows × 2 columns</p>\n",
       "</div>"
      ],
      "text/plain": [
       "                                 Name Predicted Genre\n",
       "0                Edgar's Lunch (1998)           drama\n",
       "1            La guerra de papá (1977)           drama\n",
       "2         Off the Beaten Track (2010)     documentary\n",
       "3              Meu Amigo Hindu (2015)           drama\n",
       "4                   Er nu zhai (1955)           drama\n",
       "...                               ...             ...\n",
       "54195  \"Tales of Light & Dark\" (2013)           drama\n",
       "54196     Der letzte Mohikaner (1965)           drama\n",
       "54197             Oliver Twink (2007)          comedy\n",
       "54198               Slipstream (1973)           drama\n",
       "54199       Curitiba Zero Grau (2010)     documentary\n",
       "\n",
       "[54200 rows x 2 columns]"
      ]
     },
     "execution_count": 111,
     "metadata": {},
     "output_type": "execute_result"
    }
   ],
   "source": [
    "model = LogisticRegression(max_iter=200)\n",
    "\n",
    "model.fit(X_train_df_tfid,Y_train)\n",
    "\n",
    "Y_pred = model.predict(X_test_df_tfid)\n",
    "predicted_genres = encoder.inverse_transform(Y_pred)\n",
    "\n",
    "test_df['Predicted Genre']=predicted_genres\n",
    "\n",
    "test_df[['Name','Predicted Genre']]"
   ]
  },
  {
   "cell_type": "code",
   "execution_count": 112,
   "metadata": {},
   "outputs": [
    {
     "data": {
      "text/html": [
       "<div>\n",
       "<style scoped>\n",
       "    .dataframe tbody tr th:only-of-type {\n",
       "        vertical-align: middle;\n",
       "    }\n",
       "\n",
       "    .dataframe tbody tr th {\n",
       "        vertical-align: top;\n",
       "    }\n",
       "\n",
       "    .dataframe thead th {\n",
       "        text-align: right;\n",
       "    }\n",
       "</style>\n",
       "<table border=\"1\" class=\"dataframe\">\n",
       "  <thead>\n",
       "    <tr style=\"text-align: right;\">\n",
       "      <th></th>\n",
       "      <th>ID</th>\n",
       "      <th>Genre</th>\n",
       "      <th>Predicted Genre</th>\n",
       "    </tr>\n",
       "  </thead>\n",
       "  <tbody>\n",
       "    <tr>\n",
       "      <th>0</th>\n",
       "      <td>1</td>\n",
       "      <td>thriller</td>\n",
       "      <td>drama</td>\n",
       "    </tr>\n",
       "    <tr>\n",
       "      <th>1</th>\n",
       "      <td>2</td>\n",
       "      <td>comedy</td>\n",
       "      <td>drama</td>\n",
       "    </tr>\n",
       "    <tr>\n",
       "      <th>2</th>\n",
       "      <td>3</td>\n",
       "      <td>documentary</td>\n",
       "      <td>documentary</td>\n",
       "    </tr>\n",
       "    <tr>\n",
       "      <th>3</th>\n",
       "      <td>4</td>\n",
       "      <td>drama</td>\n",
       "      <td>drama</td>\n",
       "    </tr>\n",
       "    <tr>\n",
       "      <th>4</th>\n",
       "      <td>5</td>\n",
       "      <td>drama</td>\n",
       "      <td>drama</td>\n",
       "    </tr>\n",
       "    <tr>\n",
       "      <th>...</th>\n",
       "      <td>...</td>\n",
       "      <td>...</td>\n",
       "      <td>...</td>\n",
       "    </tr>\n",
       "    <tr>\n",
       "      <th>54195</th>\n",
       "      <td>54196</td>\n",
       "      <td>horror</td>\n",
       "      <td>drama</td>\n",
       "    </tr>\n",
       "    <tr>\n",
       "      <th>54196</th>\n",
       "      <td>54197</td>\n",
       "      <td>western</td>\n",
       "      <td>drama</td>\n",
       "    </tr>\n",
       "    <tr>\n",
       "      <th>54197</th>\n",
       "      <td>54198</td>\n",
       "      <td>adult</td>\n",
       "      <td>comedy</td>\n",
       "    </tr>\n",
       "    <tr>\n",
       "      <th>54198</th>\n",
       "      <td>54199</td>\n",
       "      <td>drama</td>\n",
       "      <td>drama</td>\n",
       "    </tr>\n",
       "    <tr>\n",
       "      <th>54199</th>\n",
       "      <td>54200</td>\n",
       "      <td>drama</td>\n",
       "      <td>documentary</td>\n",
       "    </tr>\n",
       "  </tbody>\n",
       "</table>\n",
       "<p>54200 rows × 3 columns</p>\n",
       "</div>"
      ],
      "text/plain": [
       "          ID        Genre Predicted Genre\n",
       "0          1     thriller           drama\n",
       "1          2       comedy           drama\n",
       "2          3  documentary     documentary\n",
       "3          4        drama           drama\n",
       "4          5        drama           drama\n",
       "...      ...          ...             ...\n",
       "54195  54196       horror           drama\n",
       "54196  54197      western           drama\n",
       "54197  54198        adult          comedy\n",
       "54198  54199        drama           drama\n",
       "54199  54200        drama     documentary\n",
       "\n",
       "[54200 rows x 3 columns]"
      ]
     },
     "execution_count": 112,
     "metadata": {},
     "output_type": "execute_result"
    }
   ],
   "source": [
    "\n",
    "merged = pd.merge(test_solution_df[['ID','Genre']],test_df[['ID','Predicted Genre']],on='ID')\n",
    "merged"
   ]
  },
  {
   "cell_type": "markdown",
   "metadata": {},
   "source": [
    "Model Evaluation - Logistic Regression"
   ]
  },
  {
   "cell_type": "code",
   "execution_count": 113,
   "metadata": {},
   "outputs": [
    {
     "name": "stdout",
     "output_type": "stream",
     "text": [
      "accuracy score : 0.59\n",
      "              precision    recall  f1-score   support\n",
      "\n",
      "      action       0.51      0.29      0.37      1314\n",
      "       adult       0.65      0.24      0.35       590\n",
      "   adventure       0.67      0.16      0.25       775\n",
      "   animation       0.59      0.04      0.08       498\n",
      "   biography       0.00      0.00      0.00       264\n",
      "      comedy       0.54      0.60      0.57      7446\n",
      "       crime       0.41      0.03      0.06       505\n",
      " documentary       0.68      0.87      0.76     13096\n",
      "       drama       0.55      0.79      0.65     13612\n",
      "      family       0.49      0.08      0.14       783\n",
      "     fantasy       0.65      0.03      0.06       322\n",
      "   game-show       0.90      0.50      0.64       193\n",
      "     history       0.00      0.00      0.00       243\n",
      "      horror       0.66      0.57      0.61      2204\n",
      "       music       0.68      0.46      0.55       731\n",
      "     musical       0.44      0.01      0.03       276\n",
      "     mystery       0.33      0.00      0.01       318\n",
      "        news       0.69      0.05      0.09       181\n",
      "  reality-tv       0.50      0.21      0.29       883\n",
      "     romance       0.43      0.02      0.05       672\n",
      "      sci-fi       0.60      0.26      0.36       646\n",
      "       short       0.48      0.33      0.40      5072\n",
      "       sport       0.72      0.29      0.41       431\n",
      "   talk-show       0.61      0.20      0.30       391\n",
      "    thriller       0.41      0.13      0.19      1590\n",
      "         war       1.00      0.01      0.02       132\n",
      "     western       0.91      0.73      0.81      1032\n",
      "\n",
      "    accuracy                           0.59     54200\n",
      "   macro avg       0.56      0.26      0.30     54200\n",
      "weighted avg       0.58      0.59      0.55     54200\n",
      "\n"
     ]
    }
   ],
   "source": [
    "accuracy = accuracy_score(merged['Genre'],merged['Predicted Genre'])\n",
    "print(f'accuracy score : {accuracy:.2f}')\n",
    "\n",
    "print(classification_report(merged['Genre'],merged['Predicted Genre']))"
   ]
  },
  {
   "cell_type": "markdown",
   "metadata": {},
   "source": [
    "Test Case:"
   ]
  },
  {
   "cell_type": "code",
   "execution_count": 117,
   "metadata": {},
   "outputs": [
    {
     "name": "stdout",
     "output_type": "stream",
     "text": [
      "Prediction Completed\n",
      "\n",
      "Description : A small-town girl struggles to fulfill her dreams of becoming a Broadway star while dealing with personal loss and family expectations.\n",
      "Predicted Genre : drama\n",
      "   Actual Genre : drama\n",
      "\n",
      "Description : A detective races against time to uncover the truth behind a series of mysterious disappearances in a sleepy coastal town.\n",
      "Predicted Genre : thriller\n",
      "   Actual Genre : thriller\n",
      "\n",
      "Description : Two lifelong friends find themselves in ridiculous situations when they accidentally switch lives for a week.\n",
      "Predicted Genre : comedy\n",
      "   Actual Genre : comedy\n",
      "\n",
      "Description : A breathtaking exploration of the planet's most remote wilderness areas and the wildlife that inhabit them.\n",
      "Predicted Genre : documentary\n",
      "   Actual Genre : documentry\n",
      "\n",
      "Description : A group of teenagers discover an ancient curse that brings their darkest fears to life.\n",
      "Predicted Genre : horror\n",
      "   Actual Genre : horror\n",
      "\n",
      "Description : A chance encounter on a train leads to an unexpected love story that spans years and continents.\n",
      "Predicted Genre : drama\n",
      "   Actual Genre : romance\n",
      "\n",
      "Description : An ex-special forces soldier must fight his way through a city held hostage by a dangerous criminal organization.\n",
      "Predicted Genre : action\n",
      "   Actual Genre : action\n",
      "\n",
      "Description : In a distant future, humanity fights for survival on a desolate Earth after alien invaders take control of the planet.\n",
      "Predicted Genre : sci-fi\n",
      "   Actual Genre : sci-fi\n",
      "\n",
      "Description : A young wizard discovers her hidden powers and must embark on a perilous journey to save her kingdom from a dark sorcerer.\n",
      "Predicted Genre : adventure\n",
      "   Actual Genre : fantasy\n",
      "\n",
      "Description : A mischievous robot and a brave little girl team up to save their village from an evil inventor's destructive plans.\n",
      "Predicted Genre : comedy\n",
      "   Actual Genre : animation\n",
      "\n"
     ]
    }
   ],
   "source": [
    "actual_genre_test_case = ['drama','thriller','comedy','documentry','horror','romance','action','sci-fi','fantasy','animation']\n",
    "\n",
    "test_case_data = [\n",
    "    # Drama\n",
    "    \"A small-town girl struggles to fulfill her dreams of becoming a Broadway star while dealing with personal loss and family expectations.\",\n",
    "    \n",
    "    # Thriller\n",
    "    \"A detective races against time to uncover the truth behind a series of mysterious disappearances in a sleepy coastal town.\",\n",
    "    \n",
    "    # Comedy\n",
    "    \"Two lifelong friends find themselves in ridiculous situations when they accidentally switch lives for a week.\",\n",
    "    \n",
    "    # Documentary\n",
    "    \"A breathtaking exploration of the planet's most remote wilderness areas and the wildlife that inhabit them.\",\n",
    "    \n",
    "    # Horror\n",
    "    \"A group of teenagers discover an ancient curse that brings their darkest fears to life.\",\n",
    "    \n",
    "    # Romance\n",
    "    \"A chance encounter on a train leads to an unexpected love story that spans years and continents.\",\n",
    "    \n",
    "    # Action\n",
    "    \"An ex-special forces soldier must fight his way through a city held hostage by a dangerous criminal organization.\",\n",
    "    \n",
    "    # Sci-Fi\n",
    "    \"In a distant future, humanity fights for survival on a desolate Earth after alien invaders take control of the planet.\",\n",
    "    \n",
    "    # Fantasy\n",
    "    \"A young wizard discovers her hidden powers and must embark on a perilous journey to save her kingdom from a dark sorcerer.\",\n",
    "    \n",
    "    # Animation\n",
    "    \"A mischievous robot and a brave little girl team up to save their village from an evil inventor's destructive plans.\",\n",
    "]\n",
    "\n",
    "test_case_df = vectorizer.transform(test_case_data)\n",
    "\n",
    "test_case_predict = model.predict(test_case_df)\n",
    "\n",
    "test_case_predicted_genres = encoder.inverse_transform(test_case_predict)\n",
    "\n",
    "print('Prediction Completed\\n')\n",
    "for i,des in enumerate(test_case_data):\n",
    "    print(f'Description : {des}\\nPredicted Genre : {test_case_predicted_genres[i]}\\n   Actual Genre : {actual_genre_test_case[i]}\\n')"
   ]
  },
  {
   "cell_type": "markdown",
   "metadata": {},
   "source": [
    "Model successfully completed and evaluated"
   ]
  }
 ],
 "metadata": {
  "kernelspec": {
   "display_name": "Python 3",
   "language": "python",
   "name": "python3"
  },
  "language_info": {
   "codemirror_mode": {
    "name": "ipython",
    "version": 3
   },
   "file_extension": ".py",
   "mimetype": "text/x-python",
   "name": "python",
   "nbconvert_exporter": "python",
   "pygments_lexer": "ipython3",
   "version": "3.12.7"
  }
 },
 "nbformat": 4,
 "nbformat_minor": 2
}
